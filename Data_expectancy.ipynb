{
  "nbformat": 4,
  "nbformat_minor": 0,
  "metadata": {
    "colab": {
      "provenance": [],
      "authorship_tag": "ABX9TyMopiCGc484Xz1F2LcCLWqo",
      "include_colab_link": true
    },
    "kernelspec": {
      "name": "python3",
      "display_name": "Python 3"
    },
    "language_info": {
      "name": "python"
    }
  },
  "cells": [
    {
      "cell_type": "markdown",
      "metadata": {
        "id": "view-in-github",
        "colab_type": "text"
      },
      "source": [
        "<a href=\"https://colab.research.google.com/github/birdsandroses/280k/blob/main/Data_expectancy.ipynb\" target=\"_parent\"><img src=\"https://colab.research.google.com/assets/colab-badge.svg\" alt=\"Open In Colab\"/></a>"
      ]
    },
    {
      "cell_type": "code",
      "execution_count": null,
      "metadata": {
        "id": "cXXvCRM3SFxj"
      },
      "outputs": [],
      "source": []
    },
    {
      "cell_type": "markdown",
      "source": [
        "README\n",
        "\n",
        "This project will research on the probability that there is significant correlation between the economic strength of a nation and the life expectancy of its citizens.\n",
        "\n",
        "The objectives are as follows;\n",
        "\n",
        "*   Data Aquisition\n",
        "*   Data Visualization\n",
        "*   Hypothesis Testing\n",
        "*   Summarizing Quantitative Data\n",
        "*   Data Wrangling and Tidying\n",
        "*   Data Manipulation with Pandas\n",
        "\n",
        "\n",
        "---\n",
        "\n",
        "The following question will be answered using Python and Python data libraries.\n",
        "\n",
        "1. Simple regression analyses to quantify the relationship between life expectancy and GDP.\n",
        "\n",
        "2. Has Gross domestic product expanded after some time in the six countries?\n",
        "\n",
        "3. Is there a relationship among's Gross domestic product and future of a country?\n",
        "\n",
        "4. How has life expectancy changed over the years for each country in your dataset?\n",
        "\n",
        "5. Are there noticeable patterns or trends in the temporal evolution of life expectancy?\n",
        "\n",
        "6. What is the distribution of GDP across the countries in your dataset?\n",
        "\n",
        "7. Are there significant differences in GDP levels among the countries?\n",
        "\n",
        "8. Compare life expectancy and GDP across different countries.\n",
        "\n",
        "9. Are there countries with consistently high or low life expectancies relative to their GDP?\n",
        "\n",
        "10. Calculate the correlation between life expectancy and GDP for each year.\n",
        "\n",
        "11. Examine how changes in GDP correlate with changes in life expectancy from year to year.\n",
        "\n",
        "12. Are there specific years where the correlation is stronger or weaker?\n",
        "\n",
        "13. Identify any outliers or extreme values in life expectancy or GDP.\n",
        "\n",
        "14. Do these outliers correspond to specific events or circumstances?\n",
        "\n",
        "15. Focus on individual countries and assess their unique situations.\n",
        "\n",
        "16. Are there specific countries where the relationship between life expectancy and GDP is distinctive?\n",
        "\n",
        "17. Calculate summary statistics for life expectancy and GDP.\n",
        "\n",
        "18. What is the average life expectancy and GDP for the entire dataset and for individual countries?\n",
        "\n",
        "19. Create visualizations like line charts to display trends over time for life expectancy and GDP.\n",
        "\n",
        "20. Use box plots or histograms to show the distribution of these variables.\n",
        "\n"
      ],
      "metadata": {
        "id": "PnIiCEgxSHWq"
      }
    },
    {
      "cell_type": "code",
      "source": [],
      "metadata": {
        "id": "FJ9KYJLbjoAw"
      },
      "execution_count": null,
      "outputs": []
    }
  ]
}